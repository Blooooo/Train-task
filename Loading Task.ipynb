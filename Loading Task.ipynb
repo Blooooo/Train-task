{
 "cells": [
  {
   "cell_type": "code",
   "execution_count": 1,
   "metadata": {},
   "outputs": [],
   "source": [
    "import numpy as np"
   ]
  },
  {
   "cell_type": "code",
   "execution_count": 3,
   "metadata": {},
   "outputs": [],
   "source": [
    "# Класс объекта(груза)\n",
    "class obj:\n",
    "    # Конструктор класса принимает на вход 3 аргумента:\n",
    "                # id_ - идентификационный номер груза\n",
    "                # mass - массу груза\n",
    "                # destenation - станцию назначения груза\n",
    "    def __init__(self, id_, mass, destenation):\n",
    "        self.id = id_\n",
    "        self.mass = mass\n",
    "        self.desten = destenation\n",
    "        pass\n",
    "    \n",
    "    # Метод для вывода информации о грузе на экзан\n",
    "    def obj_statistic(self):\n",
    "        print('Object ID: ', self.id)\n",
    "        print('Object mass: ', self.mass)\n",
    "        print('Destenation station: ', self.desten)\n",
    "        pass\n",
    "\n",
    "# Класс создания набора объектов грузов.\n",
    "class Cargo:\n",
    "    # Конструктор класса принимает на вход один параметр\n",
    "                # cargo_size - количество генерируемых грузов\n",
    "    def __init__(self, cargo_size):\n",
    "        # Определяем словарь станций\n",
    "        self.stations_dict = { 1:'A', 2:'B', 3:'C' }\n",
    "        # Создаем вектор id грузов, вектор масс грузов, вектор станций назначений\n",
    "        id_ = np.arange(cargo_size)\n",
    "        mass = np.round(np.random.uniform(low=0., high=1500, size=cargo_size), decimals=3)\n",
    "        desten = np.random.randint(low=2, high=4, size=cargo_size)\n",
    "        desten = self.translate(station_list=desten)\n",
    "        # Создаем пустой список объектов\n",
    "        object_list = []\n",
    "        for i in range(cargo_size):\n",
    "            object_list.append(obj(id_=id_[i], mass=mass[i], destenation=desten[i]))\n",
    "        self.object_list = np.array(object_list)\n",
    "        pass  \n",
    "    \n",
    "    # Метод для вывода информации о каждом грузе \n",
    "    def cargo_statistics(self):\n",
    "        for i in self.object_list:\n",
    "            i.obj_statistic()\n",
    "            print()\n",
    "        pass\n",
    "    \n",
    "    # Вспомогательный метод, используемый в конструкторе класса\n",
    "    def translate(self, station_list):\n",
    "        list_ = []\n",
    "        for i in range(station_list.size):\n",
    "            list_.append(self.stations_dict[station_list[i]])\n",
    "        return list_"
   ]
  },
  {
   "cell_type": "code",
   "execution_count": 4,
   "metadata": {
    "scrolled": true
   },
   "outputs": [
    {
     "name": "stdout",
     "output_type": "stream",
     "text": [
      "Object ID:  0\n",
      "Object mass:  1381.443\n",
      "Destenation station:  B\n",
      "\n",
      "Object ID:  1\n",
      "Object mass:  848.954\n",
      "Destenation station:  C\n",
      "\n",
      "Object ID:  2\n",
      "Object mass:  1460.843\n",
      "Destenation station:  C\n",
      "\n",
      "Object ID:  3\n",
      "Object mass:  627.978\n",
      "Destenation station:  B\n",
      "\n",
      "Object ID:  4\n",
      "Object mass:  1022.249\n",
      "Destenation station:  B\n",
      "\n",
      "Object ID:  5\n",
      "Object mass:  1443.918\n",
      "Destenation station:  B\n",
      "\n",
      "Object ID:  6\n",
      "Object mass:  143.612\n",
      "Destenation station:  C\n",
      "\n",
      "Object ID:  7\n",
      "Object mass:  144.265\n",
      "Destenation station:  B\n",
      "\n",
      "Object ID:  8\n",
      "Object mass:  564.725\n",
      "Destenation station:  C\n",
      "\n",
      "Object ID:  9\n",
      "Object mass:  46.271\n",
      "Destenation station:  B\n",
      "\n",
      "Object ID:  10\n",
      "Object mass:  60.324\n",
      "Destenation station:  B\n",
      "\n",
      "Object ID:  11\n",
      "Object mass:  942.229\n",
      "Destenation station:  C\n",
      "\n",
      "Object ID:  12\n",
      "Object mass:  176.728\n",
      "Destenation station:  C\n",
      "\n",
      "Object ID:  13\n",
      "Object mass:  1132.211\n",
      "Destenation station:  C\n",
      "\n",
      "Object ID:  14\n",
      "Object mass:  1117.645\n",
      "Destenation station:  C\n",
      "\n",
      "Object ID:  15\n",
      "Object mass:  1046.935\n",
      "Destenation station:  C\n",
      "\n",
      "Object ID:  16\n",
      "Object mass:  1226.503\n",
      "Destenation station:  B\n",
      "\n",
      "Object ID:  17\n",
      "Object mass:  429.278\n",
      "Destenation station:  C\n",
      "\n"
     ]
    }
   ],
   "source": [
    "Cargo(18).cargo_statistics()"
   ]
  },
  {
   "cell_type": "code",
   "execution_count": 5,
   "metadata": {},
   "outputs": [],
   "source": [
    "class Wagon_scheme:\n",
    "    def __init__(self, cargo_queue):\n",
    "        self.wagon_cargo = cargo_queue[:17]\n",
    "        self.unloading_scheme = np.array(cargo_queue).reshape(2,-1)\n",
    "        self.markers = self.refresh_markers()\n",
    "        pass\n",
    "    \n",
    "    def def_markers(self, next_station, status=None):\n",
    "        scheme = self.unloading_scheme\n",
    "        self.markers = self.refresh_markers()\n",
    "        for i in range(scheme.shape[0]):\n",
    "            for j in range(scheme.shape[1]):\n",
    "                if scheme[i][j].desten == next_station:\n",
    "                    self.markers[i][j] = 'X'\n",
    "        if status == None:\n",
    "            self.print_markers()\n",
    "        pass\n",
    "    \n",
    "    def refresh_markers(self):\n",
    "        return np.array(['O' for i in range(18)]).reshape(2,-1)\n",
    "    \n",
    "    def print_scheme(self, param='mass'):\n",
    "        if not(param in ['ID', 'mass', 'desten']):\n",
    "            return print('Uncorrect param')\n",
    "        scheme = self.unloading_scheme\n",
    "        for i, oi in enumerate(scheme):\n",
    "            for j, oj in enumerate(oi):\n",
    "                if param == 'ID':\n",
    "                    print(oj.id, end=\";  \")\n",
    "                elif param == 'mass':\n",
    "                    print(oj.mass, end=\";  \")\n",
    "                elif param == 'desten':\n",
    "                    print(oj.desten, end=\";  \")\n",
    "            print()\n",
    "        pass\n",
    "    \n",
    "    def print_markers(self):\n",
    "        markers = self.markers\n",
    "        for i in markers:\n",
    "            for j in i:\n",
    "                print(j, end=';  ')\n",
    "            print()\n",
    "        pass\n",
    "    \n",
    "    # Метод расчета ходов\n",
    "    def calc_steps(self, pos_1, pos_2):\n",
    "        if not(type(pos_1) == tuple and type(pos_2) == tuple):\n",
    "            return print('Position has an incorrect format.')\n",
    "        elif pos_1[0] > 1 or pos_1[0] < 0 or pos_1[1] > 8 or pos_1[1] < 0:\n",
    "            return print('Position has an incorrect format.')\n",
    "        elif pos_2[0] > 1 or pos_2[0] < 0 or pos_2[1] > 8 or pos_2[1] < 0:\n",
    "            return print('Position has an incorrect format.')\n",
    "        return np.abs(pos_1[0] - pos_2[0]) + np.abs(pos_1[1] - pos_2[1])\n",
    "    \n",
    "    # Создание списка очереди по возрастанию шагов от груза до ячейки выгрузки\n",
    "    def create_dest_order_list(self, station):\n",
    "        # Создаем маркеры выгрузки\n",
    "        self.def_markers(next_station=station, status='order_list')\n",
    "        # Окно выгрузки (1,4)\n",
    "        # Список очереди\n",
    "        unordered_list = np.array([(0, 0), 0])\n",
    "        for i in range(self.unloading_scheme.shape[0]):\n",
    "            for j in range(self.unloading_scheme.shape[1]):\n",
    "                if self.markers[i][j] == 'X':\n",
    "                    steps = self.calc_steps(pos_1=(i,j), pos_2=(1,4))\n",
    "                    unordered_list = np.vstack((unordered_list, np.array([(i, j), steps])))\n",
    "        ordered_list = sorted(unordered_list[1:], key=lambda x:x[1])\n",
    "        ordered_list = np.concatenate(tuple(ordered_list)).reshape(-1,2)\n",
    "        print('Ordered list of destenations:')\n",
    "        print('Number of cargo: ', ordered_list.shape[0])\n",
    "        return ordered_list\n",
    "    "
   ]
  },
  {
   "cell_type": "code",
   "execution_count": 6,
   "metadata": {},
   "outputs": [],
   "source": [
    "# Создание очереди объектов\n",
    "que = Cargo(18).object_list"
   ]
  },
  {
   "cell_type": "code",
   "execution_count": 7,
   "metadata": {
    "scrolled": true
   },
   "outputs": [],
   "source": [
    "# создание схемы загрузки вагона\n",
    "wag = Wagon_scheme(que)"
   ]
  },
  {
   "cell_type": "code",
   "execution_count": 8,
   "metadata": {},
   "outputs": [
    {
     "name": "stdout",
     "output_type": "stream",
     "text": [
      "C;  B;  B;  B;  C;  B;  B;  B;  B;  \n",
      "C;  C;  B;  B;  C;  C;  B;  B;  B;  \n"
     ]
    }
   ],
   "source": [
    "# Вывод станций выгрузки грузов\n",
    "wag.print_scheme('desten')"
   ]
  },
  {
   "cell_type": "code",
   "execution_count": 9,
   "metadata": {},
   "outputs": [
    {
     "name": "stdout",
     "output_type": "stream",
     "text": [
      "X;  O;  O;  O;  X;  O;  O;  O;  O;  \n",
      "X;  X;  O;  O;  X;  X;  O;  O;  O;  \n"
     ]
    }
   ],
   "source": [
    "# Определение маркеров для выгрузки грузов на выбранной станции\n",
    "wag.def_markers(next_station='C')"
   ]
  },
  {
   "cell_type": "code",
   "execution_count": 10,
   "metadata": {},
   "outputs": [
    {
     "data": {
      "text/plain": [
       "array([['X', 'O', 'O', 'O', 'X', 'O', 'O', 'O', 'O'],\n",
       "       ['X', 'X', 'O', 'O', 'X', 'X', 'O', 'O', 'O']], dtype='<U1')"
      ]
     },
     "execution_count": 10,
     "metadata": {},
     "output_type": "execute_result"
    }
   ],
   "source": [
    "wag.markers"
   ]
  },
  {
   "cell_type": "code",
   "execution_count": 11,
   "metadata": {},
   "outputs": [
    {
     "name": "stdout",
     "output_type": "stream",
     "text": [
      "Ordered list of destenations:\n",
      "Number of cargo:  6\n"
     ]
    },
    {
     "data": {
      "text/plain": [
       "array([[(1, 4), 0],\n",
       "       [(0, 4), 1],\n",
       "       [(1, 5), 1],\n",
       "       [(1, 1), 3],\n",
       "       [(1, 0), 4],\n",
       "       [(0, 0), 5]], dtype=object)"
      ]
     },
     "execution_count": 11,
     "metadata": {},
     "output_type": "execute_result"
    }
   ],
   "source": [
    "unor_lst = wag.create_dest_order_list(station='C')\n",
    "unor_lst"
   ]
  },
  {
   "cell_type": "code",
   "execution_count": null,
   "metadata": {},
   "outputs": [],
   "source": []
  }
 ],
 "metadata": {
  "kernelspec": {
   "display_name": "Python 3",
   "language": "python",
   "name": "python3"
  },
  "language_info": {
   "codemirror_mode": {
    "name": "ipython",
    "version": 3
   },
   "file_extension": ".py",
   "mimetype": "text/x-python",
   "name": "python",
   "nbconvert_exporter": "python",
   "pygments_lexer": "ipython3",
   "version": "3.7.3"
  }
 },
 "nbformat": 4,
 "nbformat_minor": 2
}
